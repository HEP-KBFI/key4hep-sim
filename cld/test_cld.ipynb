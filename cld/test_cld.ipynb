{
 "cells": [
  {
   "cell_type": "code",
   "execution_count": null,
   "id": "1734dc03-00fe-432a-8d00-58adc7ad1758",
   "metadata": {},
   "outputs": [],
   "source": [
    "import uproot\n",
    "import vector\n",
    "import awkward"
   ]
  },
  {
   "cell_type": "code",
   "execution_count": null,
   "id": "dcd798aa-6103-48f8-96a8-69f3c008c404",
   "metadata": {},
   "outputs": [],
   "source": [
    "def track_pt(omega):\n",
    "    a = 3 * 10**-4\n",
    "    b = 2  # B-field in tesla, from clicRec_e4h_input\n",
    "\n",
    "    return a * np.abs(b / omega)"
   ]
  },
  {
   "cell_type": "code",
   "execution_count": null,
   "id": "9f7fcaac-ed1d-490a-8a07-146b368e6c82",
   "metadata": {},
   "outputs": [],
   "source": [
    "fi = uproot.open(\"out.root\")"
   ]
  },
  {
   "cell_type": "code",
   "execution_count": null,
   "id": "80518e09-39c0-4ee6-a77e-53d4b4515e37",
   "metadata": {},
   "outputs": [],
   "source": [
    "ev = fi[\"events\"]"
   ]
  },
  {
   "cell_type": "code",
   "execution_count": null,
   "id": "524a256c-b57c-45d7-822a-1542b4bf7417",
   "metadata": {},
   "outputs": [],
   "source": [
    "ev.arrays(\"_PandoraClusters_hits/_PandoraClusters_hits.collectionID\")[\"_PandoraClusters_hits/_PandoraClusters_hits.collectionID\"]"
   ]
  },
  {
   "cell_type": "code",
   "execution_count": null,
   "id": "78e4e628-29dd-4fc3-b09e-6fe515cee632",
   "metadata": {},
   "outputs": [],
   "source": [
    "ev.arrays([\"_MCTruthRecoLink_sim\"])[\"_MCTruthRecoLink_sim\"].fields"
   ]
  },
  {
   "cell_type": "code",
   "execution_count": null,
   "id": "f9851d6c-5149-4f1c-8617-604c223ec618",
   "metadata": {},
   "outputs": [],
   "source": [
    "for k in ev.keys():\n",
    "    if \"trackStates\" in k:\n",
    "        print(k)"
   ]
  },
  {
   "cell_type": "code",
   "execution_count": null,
   "id": "dd1fb1bb-1693-49ef-b940-8d60c016b71b",
   "metadata": {},
   "outputs": [],
   "source": [
    "mcp = ev[\"MCParticles\"].arrays()\n",
    "\n",
    "st1 = mcp[\"MCParticles.generatorStatus\"]==1\n",
    "\n",
    "mc_p4 = vector.awk(awkward.zip({\n",
    "        \"mass\": mcp[\"MCParticles.mass\"],\n",
    "        \"px\": mcp[\"MCParticles.momentum.x\"],\n",
    "        \"py\": mcp[\"MCParticles.momentum.y\"],\n",
    "        \"pz\": mcp[\"MCParticles.momentum.z\"],\n",
    "    }))\n",
    "\n",
    "pf = ev[\"PandoraPFOs\"].arrays()\n",
    "pf_p4 = vector.awk(awkward.zip({\n",
    "        \"mass\": pf[\"PandoraPFOs.mass\"],\n",
    "        \"px\": pf[\"PandoraPFOs.momentum.x\"],\n",
    "        \"py\": pf[\"PandoraPFOs.momentum.y\"],\n",
    "        \"pz\": pf[\"PandoraPFOs.momentum.z\"],\n",
    "    }))"
   ]
  },
  {
   "cell_type": "code",
   "execution_count": null,
   "id": "7b53002a-83d7-4f35-acc5-c0adcae83590",
   "metadata": {},
   "outputs": [],
   "source": [
    "trackstates = ev[\"_SiTracks_trackStates\"].arrays()"
   ]
  },
  {
   "cell_type": "code",
   "execution_count": null,
   "id": "dd1c851a-cbbb-414f-b8ff-1f2e04e4863c",
   "metadata": {},
   "outputs": [],
   "source": [
    "tracks = ev[\"SiTracks\"].arrays()"
   ]
  },
  {
   "cell_type": "code",
   "execution_count": null,
   "id": "414fd41a-23a9-4328-882a-d89470e5d3d0",
   "metadata": {},
   "outputs": [],
   "source": [
    "omegas = trackstates[tracks[\"SiTracks.trackStates_begin\"]][\"_SiTracks_trackStates.omega\"]\n",
    "phis = trackstates[tracks[\"SiTracks.trackStates_begin\"]][\"_SiTracks_trackStates.phi\"]\n",
    "tanlambdas = trackstates[tracks[\"SiTracks.trackStates_begin\"]][\"_SiTracks_trackStates.tanLambda\"]"
   ]
  },
  {
   "cell_type": "code",
   "execution_count": null,
   "id": "8f78380a-3d3e-450c-9d5b-a83935c05039",
   "metadata": {},
   "outputs": [],
   "source": [
    "track_pts = track_pt(omegas)\n",
    "track_pxs = track_pts * np.cos(phis)\n",
    "track_pys = track_pts * np.sin(phis)\n",
    "track_pzs = track_pts * tanlambdas\n",
    "track_ps = np.sqrt(track_pxs**2 + track_pys**2 + track_pzs**2)"
   ]
  },
  {
   "cell_type": "code",
   "execution_count": null,
   "id": "b0a0f7c1-cf99-4ee7-82ac-52a2e2b73110",
   "metadata": {},
   "outputs": [],
   "source": [
    "plt.hist(\n",
    "    awkward.flatten(ev[\"PandoraClusters\"].arrays()[\"PandoraClusters.energy\"]),\n",
    "    bins=np.logspace(-2,3,100), label=\"Pandora clusters\",\n",
    "    histtype=\"step\", lw=2\n",
    ")\n",
    "plt.hist(\n",
    "    awkward.flatten(track_ps),\n",
    "    bins=np.logspace(-2,3,100), label=\"tracks\",\n",
    "    histtype=\"step\", lw=2\n",
    ")\n",
    "plt.xscale(\"log\")\n",
    "plt.xlabel(\"cluster energy or track |p|\")\n",
    "plt.legend()"
   ]
  },
  {
   "cell_type": "code",
   "execution_count": null,
   "id": "215240f4-73f0-4379-9210-793d97a5a953",
   "metadata": {},
   "outputs": [],
   "source": [
    "plt.hist(awkward.flatten(mc_p4.energy[st1]), bins=np.logspace(-3,3,100), histtype=\"step\", lw=2, label=\"MC status=1\");\n",
    "plt.hist(awkward.flatten(pf_p4.energy), bins=np.logspace(-3,3,100), histtype=\"step\", lw=2, label=\"Pandora PFs\");\n",
    "plt.xscale(\"log\")\n",
    "plt.legend(loc=\"best\")\n",
    "plt.xlabel(\"energy\")"
   ]
  },
  {
   "cell_type": "code",
   "execution_count": null,
   "id": "dece194c-59f8-42dc-8634-913f4b335c0b",
   "metadata": {},
   "outputs": [],
   "source": [
    "import uproot\n",
    "import numpy as np\n",
    "import pandas\n",
    "import awkward\n",
    "\n",
    "import plotly.graph_objects as go\n",
    "import vector\n",
    "\n",
    "import matplotlib.pyplot as plt"
   ]
  },
  {
   "cell_type": "code",
   "execution_count": null,
   "id": "f141cc0a-ce91-4003-ba99-7b2bd99fe926",
   "metadata": {},
   "outputs": [],
   "source": [
    "def hits_to_features(hit_data, iev, coll, feats):\n",
    "    \n",
    "    if \"TrackerHit\" in coll or \"TrackerEndcapHits\" in coll:\n",
    "        new_feats = []\n",
    "        for feat in feats:\n",
    "            feat_to_get = feat\n",
    "            if feat == \"energy\":\n",
    "                feat_to_get = \"eDep\"\n",
    "            new_feats.append((feat, feat_to_get))\n",
    "    else:\n",
    "        new_feats = [(f, f) for f in feats]\n",
    "        \n",
    "    feat_arr = {f1: hit_data[coll + \".\" + f2][iev] for f1, f2 in new_feats}\n",
    "\n",
    "    sdcoll = \"subdetector\"\n",
    "    feat_arr[sdcoll] = np.zeros(len(feat_arr[\"type\"]), dtype=np.int32)\n",
    "    if coll.startswith(\"ECAL\"):\n",
    "        feat_arr[sdcoll][:] = 0\n",
    "    elif coll.startswith(\"HCAL\"):\n",
    "        feat_arr[sdcoll][:] = 1\n",
    "    elif coll.startswith(\"MUON\"):\n",
    "        feat_arr[sdcoll][:] = 2\n",
    "    else:\n",
    "        feat_arr[sdcoll][:] = 3\n",
    "    return awkward.Record(feat_arr)"
   ]
  },
  {
   "cell_type": "code",
   "execution_count": null,
   "id": "8b1ff9e8-a595-4777-8300-2b2019eca1f0",
   "metadata": {},
   "outputs": [],
   "source": [
    "pdg_dict = {\n",
    "    22: \"photon\",  # photon    \n",
    "    11: \"electron\",     # electron\n",
    "    12: \"neutrino\",     # electron neutrino  \n",
    "    13: \"muon\",     # muon\n",
    "    14: \"neutrino\",     # muon neutrino \n",
    "    130: \"n. hadron\",      # strange meson (neutral hadron)\n",
    "    2112: \"n. hadron\",    # n (neutral hadron)    \n",
    "    211: \"ch. hadron\",   # pi+ (charged hadron)\n",
    "    321: \"ch. hadron\",    # K+ (charged hadron)\n",
    "    2212: \"ch. hadron\",   # proton (charged hadron) \n",
    "    -1: \"\",\n",
    "}"
   ]
  },
  {
   "cell_type": "code",
   "execution_count": null,
   "id": "ee28015e-3c4b-4de1-9320-59977fd1fd86",
   "metadata": {},
   "outputs": [],
   "source": [
    "# which event\n",
    "iev = 1"
   ]
  },
  {
   "cell_type": "code",
   "execution_count": null,
   "id": "f13029a2-193a-4d1c-9d19-cd5200e100f6",
   "metadata": {},
   "outputs": [],
   "source": [
    "collectionIDs = {k: v for k, v in\n",
    "    zip(fi.get(\"podio_metadata\").arrays(\"events___idTable/m_names\")['events___idTable/m_names'][0],\n",
    "    fi.get(\"podio_metadata\").arrays(\"events___idTable/m_collectionIDs\")[\"events___idTable/m_collectionIDs\"][0])}\n",
    "collectionIDs_reverse = {v: k for k, v in collectionIDs.items()}\n",
    "\n",
    "hit_data = {\n",
    "    \"VXDTrackerHits\": ev[\"VXDTrackerHits\"].array(),\n",
    "    \"VXDEndcapTrackerHits\": ev[\"VXDEndcapTrackerHits\"].array(),\n",
    "    \"ITrackerHits\": ev[\"ITrackerHits\"].array(),\n",
    "    \"ITrackerEndcapHits\": ev[\"ITrackerEndcapHits\"].array(),\n",
    "    \"OTrackerHits\": ev[\"OTrackerHits\"].array(),\n",
    "    \"OTrackerEndcapHits\": ev[\"OTrackerEndcapHits\"].array(),\n",
    "    \"ECALBarrel\": ev[\"ECALBarrel\"].array(),\n",
    "    \"ECALEndcap\": ev[\"ECALEndcap\"].array(),\n",
    "    \"HCALBarrel\": ev[\"HCALBarrel\"].array(),\n",
    "    \"HCALEndcap\": ev[\"HCALEndcap\"].array(),\n",
    "    \"MUON\": ev[\"MUON\"].array(),\n",
    "}\n",
    "    \n",
    "feats = [\"position.x\", \"position.y\", \"position.z\", \"energy\", \"type\"]\n",
    "\n",
    "hit_feature_matrix = []\n",
    "for col in sorted(hit_data.keys()):\n",
    "    icol = collectionIDs[col]\n",
    "    hit_features = hits_to_features(hit_data[col], iev, col, feats)\n",
    "    hit_feature_matrix.append(hit_features)\n",
    "    \n",
    "hit_feature_matrix = awkward.Record({\n",
    "    k: awkward.concatenate([hit_feature_matrix[i][k] for i in range(len(hit_feature_matrix))]) for k in hit_feature_matrix[0].fields})\n",
    "\n",
    "##############\n",
    "\n",
    "df = pandas.DataFrame()\n",
    "df[\"px\"] = hit_feature_matrix[\"position.x\"].to_numpy()\n",
    "df[\"py\"] = hit_feature_matrix[\"position.y\"].to_numpy()\n",
    "df[\"pz\"] = hit_feature_matrix[\"position.z\"].to_numpy()\n",
    "df[\"energy\"] = 1000*hit_feature_matrix[\"energy\"].to_numpy()\n",
    "df[\"plotsize\"] = 0.0\n",
    "df[\"subdetector\"] = hit_feature_matrix[\"subdetector\"].to_numpy()\n",
    "\n",
    "################\n",
    "\n",
    "df.loc[df[\"subdetector\"]==0, \"plotsize\"] = df.loc[df[\"subdetector\"]==0, \"energy\"]/5\n",
    "df.loc[df[\"subdetector\"]==1, \"plotsize\"] = df.loc[df[\"subdetector\"]==1, \"energy\"]/10\n",
    "df.loc[df[\"subdetector\"]==2, \"plotsize\"] = df.loc[df[\"subdetector\"]==2, \"energy\"]*100\n",
    "df.loc[df[\"subdetector\"]==3, \"plotsize\"] = df.loc[df[\"subdetector\"]==3, \"energy\"]*100"
   ]
  },
  {
   "cell_type": "code",
   "execution_count": null,
   "id": "796d78b6-2bed-49c7-a7e5-b8ad9187fe37",
   "metadata": {},
   "outputs": [],
   "source": [
    "labels = {\n",
    "    0: \"Raw ECAL hit\",\n",
    "    1: \"Raw HCAL hit\",\n",
    "    2: \"Raw Muon chamber hit\",\n",
    "    3: \"Raw tracker hit\"\n",
    "}\n",
    "\n",
    "subdetector_color = {\n",
    "    0: \"steelblue\",\n",
    "    1: \"green\",\n",
    "    2: \"orange\",\n",
    "    3: \"red\"\n",
    "}\n",
    "    \n",
    "    \n",
    "### Create your 3D scatter plot of the raw hits\n",
    "\n",
    "traces = []\n",
    "for subdetector in df[\"subdetector\"].unique():\n",
    "    trace = go.Scatter3d(\n",
    "        x=np.clip(df[\"px\"][df[\"subdetector\"]==subdetector], -8000, 8000),\n",
    "        y=np.clip(df[\"py\"][df[\"subdetector\"]==subdetector], -8000, 8000),\n",
    "        z=np.clip(df[\"pz\"][df[\"subdetector\"]==subdetector], -8000, 8000),\n",
    "        mode='markers',\n",
    "        marker=dict(\n",
    "            size=np.clip(2+2*np.log(df[\"plotsize\"]), 1, 15),\n",
    "            color=subdetector_color[subdetector],\n",
    "            colorscale='Viridis',\n",
    "            opacity=0.8,\n",
    "        ),\n",
    "        name=labels[subdetector]\n",
    "    )  \n",
    "\n",
    "    traces.append(trace)\n",
    "\n",
    "\n",
    "# Customize the axis names\n",
    "layout = go.Layout(\n",
    "    scene=dict(\n",
    "        xaxis=dict(title='', showticklabels=False),\n",
    "        yaxis=dict(title='', showticklabels=False),\n",
    "        zaxis=dict(title='', showticklabels=False),\n",
    "        camera=dict(\n",
    "            up=dict(x=1, y=0, z=0),  # Sets the orientation of the camera\n",
    "            center=dict(x=0, y=0, z=0),  # Sets the center point of the plot\n",
    "            eye=dict(x=0, y=0, z=2.5)  # Sets the position of the camera\n",
    "        )\n",
    "    ),\n",
    "    legend=dict(x=0.75, y=0.5, font = dict(size = 20)),  # https://plotly.com/python/legend/\n",
    "    showlegend=True,\n",
    "    width=1000,\n",
    "    height=1000\n",
    ")\n",
    "\n",
    "# Create the figure and display the plot\n",
    "fig = go.Figure(data=traces, layout=layout)\n",
    "\n",
    "fig.update_traces(marker_line_width=0, selector=dict(type='scatter3d'))   # for plotly to avoid plotting white spots when things overlap\n",
    "fig.show()"
   ]
  },
  {
   "cell_type": "code",
   "execution_count": null,
   "id": "de164448-d260-41ab-aa36-0b4b20817ab3",
   "metadata": {},
   "outputs": [],
   "source": [
    "# borrowed from here: https://github.com/farakiko/particleflow/blob/main/fcc/postprocessing.py\n",
    "\n",
    "track_coll = \"SiTracks\"\n",
    "\n",
    "track_feature_order = [\n",
    "    \"elemtype\",\n",
    "    \"pt\",\n",
    "    \"eta\",\n",
    "    \"sin_phi\",\n",
    "    \"cos_phi\",\n",
    "    \"p\",\n",
    "    \"chi2\",\n",
    "    \"ndf\",\n",
    "    \"dEdx\",\n",
    "    \"dEdxError\",\n",
    "    \"radiusOfInnermostHit\",\n",
    "    \"tanLambda\",\n",
    "    \"D0\",\n",
    "    \"omega\",\n",
    "    \"Z0\",\n",
    "    \"time\",\n",
    "]\n",
    "\n",
    "def track_pt(omega):\n",
    "    a = 3 * 10**-4\n",
    "    b = 2  # B-field in tesla, from clicRec_e4h_input\n",
    "\n",
    "    return a * np.abs(b / omega)    \n",
    "\n",
    "\n",
    "def track_to_features(prop_data, iev):\n",
    "    track_arr = prop_data[track_coll][iev]\n",
    "    feats_from_track = [\"type\", \"chi2\", \"ndf\", \"dEdx\", \"dEdxError\", \"radiusOfInnermostHit\"]\n",
    "    ret = {feat: track_arr[track_coll + \".\" + feat] for feat in feats_from_track}\n",
    "    n_tr = len(ret[\"type\"])\n",
    "\n",
    "    # get the index of the first track state\n",
    "    trackstate_idx = prop_data[track_coll][track_coll + \".trackStates_begin\"][iev]\n",
    "    # get the properties of the track at the first track state (at the origin)\n",
    "    for k in [\"tanLambda\", \"D0\", \"phi\", \"omega\", \"Z0\", \"time\"]:\n",
    "        ret[k] = prop_data[\"_SiTracks_trackStates\"][\"_SiTracks_trackStates.\" + k][iev][trackstate_idx]\n",
    "\n",
    "    ret[\"pt\"] = track_pt(ret[\"omega\"])\n",
    "    ret[\"px\"] = np.cos(ret[\"phi\"]) * ret[\"pt\"]\n",
    "    ret[\"py\"] = np.sin(ret[\"phi\"]) * ret[\"pt\"]\n",
    "    ret[\"pz\"] = ret[\"tanLambda\"] * ret[\"pt\"]\n",
    "    \n",
    "    ret[\"q\"] = ret[\"omega\"].to_numpy().copy()\n",
    "    ret[\"q\"][ret[\"q\"]>0] = 1\n",
    "    ret[\"q\"][ret[\"q\"]<0] = -1\n",
    "\n",
    "\n",
    "    return ret"
   ]
  },
  {
   "cell_type": "code",
   "execution_count": null,
   "id": "0f9d68af-a096-4aff-8f11-1b427f19ab4b",
   "metadata": {},
   "outputs": [],
   "source": []
  }
 ],
 "metadata": {
  "kernelspec": {
   "display_name": "Python 3 (ipykernel)",
   "language": "python",
   "name": "python3"
  },
  "language_info": {
   "codemirror_mode": {
    "name": "ipython",
    "version": 3
   },
   "file_extension": ".py",
   "mimetype": "text/x-python",
   "name": "python",
   "nbconvert_exporter": "python",
   "pygments_lexer": "ipython3",
   "version": "3.10.14"
  }
 },
 "nbformat": 4,
 "nbformat_minor": 5
}
